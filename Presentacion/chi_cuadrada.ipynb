{
 "cells": [
{
   "cell_type": "markdown",
   "id": "b308fd0e",
   "metadata": {},
   "source": [
    "# 🧪 Distribución Chi-Cuadrada  "
   ]
  },
  {
   "cell_type": "markdown",
   "id": "ea82e852",
   "metadata": {},
   "source": [
    "Es una distribución de probabilidad continua que surge de la suma de variables aleatorias normales estándar independientes elevadas al cuadrado. Es fundamental para el análisis de varianzas y, sobre todo, para las pruebas de hipótesis con datos categóricos."
   ]
  },
  {
   "cell_type": "markdown",
   "id": "d3e2a9ca",
   "metadata": {},
   "source": [
    "## Función Matemática (Función de Densidad de Probabilidad)"
   ]
  },
  {
   "cell_type": "markdown",
   "id": "4fcf9fb6",
   "metadata": {},
   "source": [
    "$$\n",
    "f(x; \\nu) = \\frac{x^{(\\nu/2 - 1)} e^{-x/2}}{2^{\\nu/2} \\Gamma(\\nu/2)}\n",
    "$$"
   ]
  },
  {
   "cell_type": "markdown",
   "id": "f97b724b",
   "metadata": {},
   "source": [
    "**¿Qué hace la función?** Determina la altura de la curva para un valor $x$ dado.\n",
    "\n",
    "Dominio: La distribución solo está definida para valores no negativos ($x \\ge 0$).\n",
    "\n",
    "$\\Gamma$ (Gamma): Es la función Gamma, una extensión del concepto de factorial a números reales y complejos.\n",
    "\n",
    "$e$: Es la base del logaritmo natural (constante de Euler).\n",
    "\n",
    "**Propiedades de la Forma:**\n",
    "\n",
    "Asimetría: A diferencia de la Normal y la $t$-Student, la distribución $\\chi^2$ es asimétrica (sesgada a la derecha).\n",
    "\n",
    "Dependencia de $\\nu$: Su forma cambia drásticamente dependiendo de su único parámetro: los grados de libertad ($\\nu$).\n",
    "\n",
    "Convergencia: A medida que los grados de libertad ($\\nu$) aumentan (generalmente $\\nu > 30$), la distribución $\\chi^2$ se vuelve más simétrica y comienza a aproximarse a una Distribución Normal."
   ]
  },
  {
   "cell_type": "markdown",
   "id": "79466297",
   "metadata": {},
   "source": [
    "## Estadísticos Asociados"
   ]
  },
  {
   "cell_type": "markdown",
   "id": "52503906",
   "metadata": {},
   "source": [
    "**Grados de Libertad**\n",
    "\n",
    "$\\nu$ (nu) o $df$\n",
    "\n",
    "Parámetro Único: Determina la forma de la distribución. Su valor depende del tipo de prueba. Por ejemplo, en tablas de contingencia, es $\\nu = (\\text{filas}-1) \\times (\\text{columnas}-1)$.\n",
    "\n",
    "**Media**\n",
    "\n",
    "$\\mu$\n",
    "\n",
    "Igual a los grados de libertad: $\\mu = \\nu$. El centro de la distribución es igual a su número de grados de libertad.\n",
    "\n",
    "**Varianza**\n",
    "\n",
    "$\\sigma^2$\n",
    "\n",
    "Doble de los grados de libertad: $\\sigma^2 = 2\\nu$."
   ]
  },
  {
   "cell_type": "markdown",
   "id": "02760ad5",
   "metadata": {},
   "source": [
    "## Usos Principales de la Distribución"
   ]
  },
  {
   "cell_type": "markdown",
   "id": "c2b4af5d",
   "metadata": {},
   "source": [
    "> Prueba de Independencia\n",
    "\n",
    "Se usa para determinar si existe una relación estadísticamente significativa entre dos variables categóricas (cualitativas) en una tabla de contingencia. Ejemplo: ¿Existe una relación entre el color favorito y el nivel educativo?\n",
    "\n",
    "> Prueba de Bondad de Ajuste (Goodness-of-Fit)\n",
    "\n",
    "Permite comprobar si la distribución de frecuencias observada en una muestra se ajusta a una distribución teórica conocida (Normal, Poisson, Uniforme, etc.). Ejemplo: ¿La distribución de los accidentes de tráfico en una ciudad sigue realmente una distribución de Poisson?\n",
    "\n",
    "> Inferencia sobre la Varianza Poblacional\n",
    "\n",
    "Se utiliza para construir intervalos de confianza y realizar pruebas de hipótesis sobre la varianza ($\\sigma^2$) o la desviación estándar ($\\sigma$) de una población que se asume normal.\n",
    "\n",
    "> Modelos de Regresión\n",
    "\n",
    "Es fundamental en modelos como la regresión logística y otras técnicas multivariantes para evaluar la significancia general del modelo."
   ]
  },
{
  "cell_type": "markdown",
  "id": "chi2-cdf",
  "metadata": {},
  "source": [
    "### Función de Distribución Acumulada (CDF)\n",
    "\n",
    "La CDF se define como:\n",
    "\n",
    "$$F(x; k) = P(X \\le x) = \\frac{1}{\\Gamma(k/2)} \\gamma\\left(\\frac{k}{2}, \\frac{x}{2}\\right)$$\n",
    "\n",
    "donde $\\gamma(s, x)$ es la **función gamma incompleta inferior**, que integra la PDF desde 0 hasta $x$.\n",
    "\n",
    "**Importante:** No existe una forma elemental cerrada para esta integral, por lo que se calcula mediante funciones especiales o métodos numéricos."
  ]
},
{
  "cell_type": "markdown",
  "id": "chi2-interpretacion",
  "metadata": {},
  "source": [
    "### Interpretación Intuitiva\n",
    "La CDF indica la probabilidad de que la suma de los cuadrados de $k$ variables normales estándar sea menor o igual a un valor $x$ dado.\n",
    "\n",
    "Por ejemplo, si $F(10; 4) = 0.97$, significa que **el 97% de los casos** se encuentran por debajo de $x = 10$ para una Chi-Cuadrada con 4 grados de libertad."
  ]
},
  {
   "cell_type": "markdown",
   "id": "bf1b429f",
   "metadata": {},
   "source": [
    "# 🧪 Ejercicio de ejemplo: Distribución Chi-Cuadrada  \n",
    "\n",
    "## El Problema de las Pilas Duracell 🔋\n",
    "\n",
    "**Escenario:**  \n",
    "La empresa *Duracellito S.A.* afirma que la duración de sus nuevas pilas AA tiene una **desviación estándar de 5 horas**.  \n",
    "Un ingeniero de control de calidad, sin embargo, sospecha que la variabilidad real es **mayor** —es decir, que algunas pilas duran mucho menos o mucho más de lo prometido.  \n",
    "\n",
    "Para comprobarlo, toma una **muestra aleatoria de 20 pilas** y mide cuántas horas dura cada una. Con esos datos, calcula la **varianza muestral** y decide aplicar una **prueba Chi-Cuadrada** para verificar si la variabilidad difiere significativamente de la declarada por la empresa.  \n",
    "\n",
    "---\n",
    "\n",
    "### 🎯 Objetivo  \n",
    "\n",
    "Determinar si la evidencia estadística sugiere que la **varianza poblacional** de la duración de las pilas es distinta (o mayor) a la reportada por la compañía.\n",
    "\n",
    "---\n",
    "\n",
    "### 🧩 Hipótesis  \n",
    "\n",
    "- **Hipótesis nula \\( H_0 \\)**: La varianza de las duraciones de las pilas es igual a la varianza esperada.  \n",
    "  \\[\n",
    "  \\sigma^2 = 5^2 = 25\n",
    "  \\]\n",
    "\n",
    "- **Hipótesis alternativa \\( H_1 \\)**: La varianza de las duraciones de las pilas es mayor que la esperada.  \n",
    "  \\[\n",
    "  \\sigma^2 > 25\n",
    "  \\]\n",
    "\n",
    "\n",
    "---\n",
    "\n",
    "### 📊 Estadístico de prueba  \n",
    "\n",
    "La prueba se basa en la distribución **Chi-Cuadrada (χ²)**:\n",
    "\n",
    "\\[\n",
    "\\chi^2 = \\frac{(n-1)s^2}{\\sigma_0^2}\n",
    "\\]\n",
    "\n",
    "donde:  \n",
    "- \\( n \\) es el tamaño de la muestra,  \n",
    "- \\( s^2 \\) es la varianza muestral,  \n",
    "- \\( \\sigma_0^2 \\) es la varianza poblacional bajo \\( H_0 \\).  \n",
    "\n",
    "El valor de \\(\\chi^2\\) se compara con el **valor crítico** de la distribución Chi-Cuadrada con \\( n-1 \\) grados de libertad.  \n",
    "\n",
    "---\n",
    "\n",
    "### 🧠 Interpretación  \n",
    "\n",
    "- Si \\(\\chi^2_{calc} > \\chi^2_{crit}\\), **se rechaza \\( H_0 \\)**: hay evidencia de que la variabilidad de las pilas es mayor que la esperada.  \n",
    "- Si \\(\\chi^2_{calc} \\leq \\chi^2_{crit}\\), **no se rechaza \\( H_0 \\)**: la variabilidad observada es consistente con la afirmada por la empresa.  "
   ]
  },
  {
   "cell_type": "code",
   "execution_count": 3,
   "id": "f1959047",
   "metadata": {},
   "outputs": [],
   "source": [
    "# Importación de librerías\n",
    "import pandas as pd\n",
    "import numpy as np\n",
    "from scipy.stats import chi2_contingency, chi2"
   ]
  },
  {
   "cell_type": "markdown",
   "id": "bdab6f85",
   "metadata": {},
   "source": [
    "# Distribución Chi-Cuadrado\n",
    "\n",
    "La distribución Chi-cuadrado de Pearson es una distribución probabilistica continua. La utilidad es que permite determinar la relación entre variables(dependencia estadística)."
   ]
  },
  {
   "cell_type": "markdown",
   "id": "fbebaec9",
   "metadata": {},
   "source": [
    "La siguiente tabla refleja la cantidad de estudiantes, según la calificación obtenida en matemáticas de dos universidades:\n",
    "\n",
    "|         | deficiente | regular | bueno | total |\n",
    "|:-------:|:----------:|:-------:|:-----:|:-----:|\n",
    "| **Universidad 1** |      5     |    11   |   7   |  23   |\n",
    "| **Universidad 2** |      20    |    32   |   3   |  55   |\n",
    "|**total**|      25    |    43   |   10  |  78   |\n",
    "\n",
    "**¿Influye el tipo de universidad en la calificación obtenida?**\n",
    "**Margen de error: 0.05**\n",
    "\n",
    "$H_0$: No influye el tipo de universidad\n",
    "$H_1$: Si influye el tipo de universidad"
   ]
  },
  {
   "cell_type": "markdown",
   "id": "88df7a48",
   "metadata": {},
   "source": [
    "Crear Tabla de Contingencia (Frecuencias Observadas)\n",
    "Creamos un DataFrame de pandas con los datos"
   ]
  },
  {
   "cell_type": "code",
   "execution_count": 4,
   "id": "5e113be2",
   "metadata": {},
   "outputs": [
    {
     "name": "stdout",
     "output_type": "stream",
     "text": [
      "---Tabla de Frecuencias Observadas (0)---\n",
      "               deficiente  regular  bueno\n",
      "Universidad 1           5       11      7\n",
      "Universidad 2          20       32      3\n"
     ]
    }
   ],
   "source": [
    "# Datos obervados del problema\n",
    "datos = {'deficiente': [5, 20], 'regular': [11, 32], 'bueno':[7, 3]}\n",
    "indice = ['Universidad 1', 'Universidad 2']\n",
    "\n",
    "# Crear el DataFrame de fecuencias observadas\n",
    "tabla_observada = pd.DataFrame(datos, index=indice)\n",
    "\n",
    "print(\"---Tabla de Frecuencias Observadas (0)---\")\n",
    "print(tabla_observada)"
   ]
  },
  {
   "cell_type": "markdown",
   "id": "3cd01822",
   "metadata": {},
   "source": [
    "## Calcular las Frecuencias Esperadas\n",
    "Se calculan las frecuencias que esperaríamos si no hubiera ninguna relación entre la universidad y la calificación (es decir, si la hipótesis nula $H_0$ fuera cierta).\n",
    "\n",
    "La formula para cada celda es:\n",
    "Frecuencia Esperada = (Total de Fila x Total de Columna)/ gran total.\n"
   ]
  },
  {
   "cell_type": "code",
   "execution_count": 5,
   "id": "b3350543",
   "metadata": {},
   "outputs": [
    {
     "name": "stdout",
     "output_type": "stream",
     "text": [
      "\n",
      "---Tabla de Frecuencias Esperadas (E) ---\n",
      "              deficiente    regular     bueno\n",
      "Universidad 1   7.371795  12.679487  2.948718\n",
      "Universidad 2  17.628205  30.320513  7.051282\n"
     ]
    }
   ],
   "source": [
    "# Calcular totales\n",
    "total_filas = tabla_observada.sum(axis=1)\n",
    "total_columnas = tabla_observada.sum(axis=0)\n",
    "gran_total = total_filas.sum()\n",
    "\n",
    "# Crear la tabla de fecuencias esperadas\n",
    "tabla_esperada = pd.DataFrame(index=indice, columns=tabla_observada.columns)\n",
    "\n",
    "for columna in total_columnas.index:\n",
    "    for fila in total_filas.index:\n",
    "        frecuencia_esperada = (total_filas[fila] * total_columnas[columna]) / gran_total\n",
    "        tabla_esperada.loc[fila, columna] = frecuencia_esperada\n",
    "\n",
    "print(\"\\n---Tabla de Frecuencias Esperadas (E) ---\")\n",
    "print(tabla_esperada)"
   ]
  },
  {
   "cell_type": "markdown",
   "id": "dc19910d",
   "metadata": {},
   "source": [
    "## Calcular es Estadístico Chi-Cuadrado ($\\chi^2$)\n",
    "\n",
    "Este valor mide la discrepancia total entre nuestros datos observados y los esperados.\n",
    "\n",
    "La fórmula es: $$ \\chi^2 = \\sum \\frac{(O - E)^2}{E} $$\n",
    "\n",
    "Se calcula celda por celda y luego se suman los resultados.\n"
   ]
  },
  {
   "cell_type": "code",
   "execution_count": 6,
   "id": "b429bf95",
   "metadata": {},
   "outputs": [
    {
     "name": "stdout",
     "output_type": "stream",
     "text": [
      "Celda (Universidad 1, deficiente): ((5 - 7.37)^2) / 7.37 = 0.7631\n",
      "Celda (Universidad 2, deficiente): ((20 - 17.63)^2) / 17.63 = 0.3191\n",
      "Celda (Universidad 1, regular): ((11 - 12.68)^2) / 12.68 = 0.2225\n",
      "Celda (Universidad 2, regular): ((32 - 30.32)^2) / 30.32 = 0.0930\n",
      "Celda (Universidad 1, bueno): ((7 - 2.95)^2) / 2.95 = 5.5661\n",
      "Celda (Universidad 2, bueno): ((3 - 7.05)^2) / 7.05 = 2.3276\n",
      "\n",
      "--- Estadístico Chi-Cuadrado Calculado ---\n",
      "χ² = 9.2915\n"
     ]
    }
   ],
   "source": [
    "# Calcular el valor de chi-cuadrado manualmente\n",
    "chi_cuadrado_calculado = 0\n",
    "for columna in tabla_observada.columns:\n",
    "    for fila in tabla_esperada.index:\n",
    "        O = tabla_observada.loc[fila, columna]\n",
    "        E = tabla_esperada.loc[fila, columna]\n",
    "        termino = ((O - E)**2)/ E\n",
    "        chi_cuadrado_calculado += termino\n",
    "        print(f\"Celda ({fila}, {columna}): (({O} - {E:.2f})^2) / {E:.2f} = {termino:.4f}\")\n",
    "\n",
    "\n",
    "print(f\"\\n--- Estadístico Chi-Cuadrado Calculado ---\")\n",
    "print(f\"χ² = {chi_cuadrado_calculado:.4f}\")"
   ]
  },
  {
   "cell_type": "markdown",
   "id": "d39d9ce2",
   "metadata": {},
   "source": [
    "## Determinar los Grados de Libertad (df)\n",
    "\n",
    "Los grados de libertad definen qué distribución de chi-cuadrado específica debemos usar como referencia.\n",
    "\n",
    "df = (Número de Filas - 1) x (Número de Columnas - 1)"
   ]
  },
  {
   "cell_type": "code",
   "execution_count": 7,
   "id": "e40e4e89",
   "metadata": {},
   "outputs": [
    {
     "name": "stdout",
     "output_type": "stream",
     "text": [
      "\n",
      "--- Grados de Libertad ---\n",
      "df = (2 - 1) * (3 - 1) = 2\n"
     ]
    }
   ],
   "source": [
    "# Calcular grados de libertad\n",
    "num_filas = len(tabla_observada)\n",
    "num_columnas = len(tabla_observada.columns)\n",
    "grados_de_libertad = (num_filas - 1) * (num_columnas - 1)\n",
    "\n",
    "print(f\"\\n--- Grados de Libertad ---\")\n",
    "print(f\"df = ({num_filas} - 1) * ({num_columnas} - 1) = {grados_de_libertad}\")"
   ]
  },
  {
   "cell_type": "markdown",
   "id": "5e39eff9",
   "metadata": {},
   "source": [
    "## Tomar la Decisión Estadística\n",
    "\n",
    "Con un margen de error (α) de 0.05, comparamos nuestro resultado.\n",
    "\n",
    "**Comparando con el Valor Crítico**\n",
    "\n",
    "Buscamos el valor en la \"tabla\" de chi-cuadrado que nuestro estadístico debe superar para rechazar $H_0$."
   ]
  },
  {
   "cell_type": "code",
   "execution_count": 9,
   "id": "74367fa8",
   "metadata": {},
   "outputs": [
    {
     "name": "stdout",
     "output_type": "stream",
     "text": [
      "\n",
      "--- Decisión usando Valor Crítico ---\n",
      "Nivel de significancia (α) = 0.05\n",
      "Valor Crítico de la tabla para df=2 = 5.9915\n",
      "Estadístico Chi-Cuadrado Calculado = 9.2915\n",
      "\n",
      "Conclusión: El estadístico calculado es MAYOR que el valor crítico.\n",
      "Por lo tanto, se rechaza la hipótesis nula (H0).\n",
      "\n",
      "--- Interpretación del Resultado ---\n",
      "La evidencia sugiere que SÍ influye el tipo de universidad en la calificación obtenida.\n"
     ]
    }
   ],
   "source": [
    "# Nivel de significancia\n",
    "alfa = 0.05\n",
    "\n",
    "# Encontrar el valor crítico de la tabla\n",
    "valor_critico = chi2.ppf(1 - alfa, df=grados_de_libertad)\n",
    "\n",
    "print(f\"\\n--- Decisión usando Valor Crítico ---\")\n",
    "print(f\"Nivel de significancia (α) = {alfa}\")\n",
    "print(f\"Valor Crítico de la tabla para df={grados_de_libertad} = {valor_critico:.4f}\")\n",
    "print(f\"Estadístico Chi-Cuadrado Calculado = {chi_cuadrado_calculado:.4f}\")\n",
    "\n",
    "# Comparar y decidir\n",
    "if chi_cuadrado_calculado > valor_critico:\n",
    "    print(\"\\nConclusión: El estadístico calculado es MAYOR que el valor crítico.\")\n",
    "    print(\"Por lo tanto, se rechaza la hipótesis nula (H0).\")\n",
    "else:\n",
    "    print(\"\\nConclusión: El estadístico calculado es MENOR que el valor crítico.\")\n",
    "    print(\"Por lo tanto, no se puede rechazar la hipótesis nula (H0).\")\n",
    "\n",
    "# Interpretación del resultado\n",
    "print(\"\\n--- Interpretación del Resultado ---\")\n",
    "if chi_cuadrado_calculado > valor_critico:\n",
    "    print(\"La evidencia sugiere que SÍ influye el tipo de universidad en la calificación obtenida.\")\n",
    "else:\n",
    "    print(\"No hay suficiente evidencia para afirmar que el tipo de universidad influye en la calificación.\")"
   ]
  },
  {
   "cell_type": "markdown",
   "id": "a27ffdac",
   "metadata": {},
   "source": [
    "## Verificación con SciPy"
   ]
  },
  {
   "cell_type": "code",
   "execution_count": 10,
   "id": "13aee8c9",
   "metadata": {},
   "outputs": [
    {
     "name": "stdout",
     "output_type": "stream",
     "text": [
      "\n",
      "--- Verificación con SciPy ---\n",
      "Estadístico Chi-Cuadrado: 9.2915\n",
      "P-value: 0.0096\n",
      "Grados de Libertad: 2\n",
      "Frecuencias Esperadas:\n",
      " [[ 7.37179487 12.67948718  2.94871795]\n",
      " [17.62820513 30.32051282  7.05128205]]\n"
     ]
    }
   ],
   "source": [
    "# Usar la función chi2_contingency para verificar\n",
    "chi2_stat, p_value, dof, expected = chi2_contingency(tabla_observada)\n",
    "\n",
    "print(\"\\n--- Verificación con SciPy ---\")\n",
    "print(f\"Estadístico Chi-Cuadrado: {chi2_stat:.4f}\")\n",
    "print(f\"P-value: {p_value:.4f}\")\n",
    "print(f\"Grados de Libertad: {dof}\")\n",
    "print(\"Frecuencias Esperadas:\\n\", expected)"
   ]
  }
 ],
 "metadata": {
  "kernelspec": {
   "display_name": "metodos_estadisticos",
   "language": "python",
   "name": "python3"
  },
  "language_info": {
   "codemirror_mode": {
    "name": "ipython",
    "version": 3
   },
   "file_extension": ".py",
   "mimetype": "text/x-python",
   "name": "python",
   "nbconvert_exporter": "python",
   "pygments_lexer": "ipython3",
   "version": "3.9.23"
  }
 },
 "nbformat": 4,
 "nbformat_minor": 5
}

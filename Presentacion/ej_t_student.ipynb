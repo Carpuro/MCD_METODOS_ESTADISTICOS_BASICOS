{
 "cells": [
{
   "cell_type": "markdown",
   "id": "a9d61517",
   "metadata": {},
   "source": [
    "# 🧪 Distribución T-Student\n",
    "\n",
    "Se utiliza principalmente en el campo de la inferencia estadística cuando se trabaja con muestras de datos pequeñas y la desviación estándar de la población es desconocida."
   ]
  },
  {
   "cell_type": "markdown",
   "id": "63be9b46",
   "metadata": {},
   "source": [
    "## Función matemática asociada a la distribución:"
   ]
  },
  {
   "attachments": {
    "image.png": {
     "image/png": "[encoded data removed]"
    }
   },
   "cell_type": "markdown",
   "id": "b372684d",
   "metadata": {},
   "source": [
    "**Función de Densidad de Probabilidad**\n",
    "\n",
    "![image.png](attachment:image.png)"
   ]
  },
  {
   "cell_type": "markdown",
   "id": "c95bd6ce",
   "metadata": {},
   "source": [
    "**Forma:** Es muy similar a la Campana de Gauss (Distribución Normal Estándar $N(0, 1)$), ya que también es simétrica respecto a cero y tiene forma de campana.\n",
    "\n",
    "**Diferencia Clave (\"Colas más Pesadas\"):** La distribución $t$-Student tiene \"colas más gordas\" o \"más pesadas\". Esto significa que los valores extremos (raros) son un poco más probables en la distribución $t$ que en la Normal.\n",
    "\n",
    "**Parámetro Único:** A diferencia de la Normal que usa $\\mu$ y $\\sigma$, la $t$-Student se define por un único parámetro que determina su forma: los grados de libertad."
   ]
  },
  {
   "cell_type": "markdown",
   "id": "3e944079",
   "metadata": {},
   "source": [
    "## Estadísticos Asociados"
   ]
  },
  {
   "cell_type": "markdown",
   "id": "4efbc66d",
   "metadata": {},
   "source": [
    "Grados de Libertad\n",
    "\n",
    "$\\nu$ (nu) o $df$\n",
    "\n",
    "Parámetro Único: Es el valor que define la forma de la curva. En la mayoría de los casos de muestreo, se calcula como el tamaño de la muestra menos uno ($\\nu = n - 1$).\n",
    "\n",
    "Media\n",
    "\n",
    "$\\mu$\n",
    "\n",
    "0 (Cero): Al igual que la Normal Estándar, su media es cero.\n",
    "\n",
    "Varianza\n",
    "\n",
    "$\\sigma^2$\n",
    "\n",
    "Mayor que 1: Su varianza es $\\frac{\\nu}{\\nu - 2}$ (siempre mayor a 1, lo que explica las \"colas más pesadas\")."
   ]
  },
  {
   "cell_type": "markdown",
   "id": "5b646985",
   "metadata": {},
   "source": [
    "## Usos de la Distribución\n",
    "\n",
    "La distribución $t$ fue desarrollada por William Sealy Gosset (\"Student\") para corregir los problemas de usar la Normal Estándar en las pruebas de calidad de la cerveza con pocas muestras."
   ]
  },
  {
   "cell_type": "markdown",
   "id": "cd17cdc6",
   "metadata": {},
   "source": [
    "> Pruebas fiables con pocas muestras para determinar la calidad de la cerveza en Guinness, como no tenia permiso de publicar sus resultados usaba el seudonimo \"Student\" (estudiante)."
   ]
  },
  {
   "cell_type": "markdown",
   "id": "55f9f418",
   "metadata": {},
   "source": [
    "**Prueba $t$ (T-Test)**\n",
    "\n",
    "Es la base para comparar las medias de dos grupos pequeños de datos (por ejemplo, si un nuevo fertilizante realmente hace que las plantas crezcan más alto que el antiguo).\n",
    "\n",
    "**Intervalos de Confianza**\n",
    "\n",
    "Se usa para calcular un rango de valores donde es probable que se encuentre la verdadera media de una población, especialmente si la muestra es pequeña y la desviación estándar de la población es desconocida.\n",
    "\n",
    "**Incertidumbre de la Estimación**\n",
    "\n",
    "Es la herramienta correcta cuando no conocemos el verdadero valor de la desviación estándar poblacional ($\\sigma$) y tenemos que estimarlo usando la desviación estándar de la muestra ($s$). La distribución $t$ compensa esta incertidumbre con sus colas más anchas."
   ]
  },
  {
   "cell_type": "markdown",
   "id": "a2a8091e",
   "metadata": {},
   "source": [
    "# 🧪 Ejercicio de ejemplo: Distribución T-Student\n",
    "\n",
    "## El Misterio de las Galletas\n",
    "\n",
    "Escenario: Una famosa marca de galletas, \"ChocoChispas,\" afirma que cada uno de sus paquetes contiene, en promedio, 40 chispas de chocolate. Sin embargo, un grupo de estudiantes de estadística sospecha que la cantidad real es menor. Para investigarlo, compran una muestra de 15 paquetes de galletas y cuentan meticulosamente las chispas en cada uno.\n",
    "\n",
    "El objetivo es utilizar una prueba t de Student para determinar si la evidencia de la muestra apoya la sospecha de los estudiantes de que el número promedio de chispas es, en realidad, inferior a 40.\n",
    "\n",
    "Hipótesis:\n",
    "\n",
    "Hipótesis Nula $H_0$: El promedio de chispas de chocolate por paquete es 40. ($\\mu$ = 40)\n",
    "Hipótesis Alternativa $H_1$: El promedio de chispas de chocolate por paquete es menor que 40. ($\\mu$ < 40)\n"
   ]
  },
  {
   "cell_type": "code",
   "execution_count": 1,
   "id": "0eda437c",
   "metadata": {},
   "outputs": [],
   "source": [
    "# Importar las bibliotecas\n",
    "import numpy as np\n",
    "from scipy import stats"
   ]
  },
  {
   "cell_type": "code",
   "execution_count": 2,
   "id": "82e7b79d",
   "metadata": {},
   "outputs": [
    {
     "name": "stdout",
     "output_type": "stream",
     "text": [
      "Datos de la muestra (chispas por paquete):\n",
      "[38 35 42 39 37 41 36 38 34 39 43 37 36 38 39]\n",
      "Número de paquetes en la muestra (n): 15\n"
     ]
    }
   ],
   "source": [
    "# Registrar datos\n",
    "\n",
    "# Datos de la muestra: chispas de chocolate contadas en 15 paquetes\n",
    "chispas_por_paquete = [38, 35, 42, 39, 37, 41, 36, 38, 34, 39, 43, 37, 36, 38, 39]\n",
    "\n",
    "# Convertir la lista a un array de Numpy\n",
    "muestra = np.array(chispas_por_paquete)\n",
    "\n",
    "# Imprimir datos para revisar\n",
    "print(\"Datos de la muestra (chispas por paquete):\")\n",
    "print(muestra)\n",
    "print(f\"Número de paquetes en la muestra (n): {len(muestra)}\")"
   ]
  },
  {
   "cell_type": "code",
   "execution_count": 3,
   "id": "6aab681f",
   "metadata": {},
   "outputs": [
    {
     "name": "stdout",
     "output_type": "stream",
     "text": [
      "Promedio de la muestra (x̄): 38.13\n",
      "Desviación Estándar de la muestra (s): 2.50\n"
     ]
    }
   ],
   "source": [
    "# Calcular el promedio (media) y la desviación estándar de la muestra\n",
    "media_muestral = np.mean(muestra)\n",
    "desviacion_estandar_muestral = np.std(muestra, ddof=1) # Usamos ddof=1 para la desviación estándar muestral\n",
    "\n",
    "print(f\"Promedio de la muestra (x̄): {media_muestral:.2f}\")\n",
    "print(f\"Desviación Estándar de la muestra (s): {desviacion_estandar_muestral:.2f}\")\n"
   ]
  },
  {
   "cell_type": "markdown",
   "id": "322b9ab3",
   "metadata": {},
   "source": [
    "## Realizar la Prueba t de Student\n",
    "\n",
    "Usando la función ttest_1samp de SciPy para comparar el promedio de la muestra con el promedio poblacional que estamos probando (el valor de la hipotesis nula $\\mu$ = 40 )"
   ]
  },
  {
   "cell_type": "code",
   "execution_count": 4,
   "id": "d9cc39c7",
   "metadata": {},
   "outputs": [
    {
     "name": "stdout",
     "output_type": "stream",
     "text": [
      "Estadístico t calculado: -2.8880\n",
      "Valor p (p-value): 0.0060\n"
     ]
    }
   ],
   "source": [
    "# Valor de la hipótesis nula (el promedio que afirma la empresa)\n",
    "mu_0 = 40\n",
    "\n",
    "# Nivel de significancia (alfa), comúnmente 0.05\n",
    "alfa = 0.05\n",
    "\n",
    "# Realizar la prueba t de Student para una muestra\n",
    "t_statistic, p_value = stats.ttest_1samp(\n",
    "    a=muestra,\n",
    "    popmean=mu_0,\n",
    "    alternative='less'  # Hipótesis alternativa: la media es MENOR que popmean\n",
    ")\n",
    "\n",
    "print(f\"Estadístico t calculado: {t_statistic:.4f}\")\n",
    "print(f\"Valor p (p-value): {p_value:.4f}\")"
   ]
  },
  {
   "cell_type": "markdown",
   "id": "ad370710",
   "metadata": {},
   "source": [
    "##  Interpretación de los Resultados y Conclusión\n",
    "\n",
    "El resultado de la prueba nos da dos valores importantes: el estadístico t y el valor p. La regla de decisión es:\n",
    "\n",
    "Si el valor p es menor o igual que nuestro nivel de significancia (α), rechazamos la hipótesis nula.\n",
    "\n",
    "Si el valor p es mayor que nuestro nivel de significancia (α), no tenemos evidencia suficiente para rechazar la hipótesis nula.\n",
    "\n"
   ]
  },
  {
   "cell_type": "code",
   "execution_count": 6,
   "id": "cf2b7058",
   "metadata": {},
   "outputs": [
    {
     "name": "stdout",
     "output_type": "stream",
     "text": [
      "Nivel de significancia (α): 0.05\n",
      "Valor p calculado: 0.0060\n",
      "\n",
      "Conclusión: ¡Rechazamos la Hipótesis Nula!\n",
      "La evidencia sugiere que el número promedio de chispas de chocolate por paquete es significativamente menor que 40.\n"
     ]
    }
   ],
   "source": [
    "# Comparar el valor p con el nivel de significancia (alfa)\n",
    "print(f\"Nivel de significancia (α): {alfa}\")\n",
    "print(f\"Valor p calculado: {p_value:.4f}\")\n",
    "\n",
    "if p_value <= alfa:\n",
    "    print(\"\\nConclusión: ¡Rechazamos la Hipótesis Nula!\")\n",
    "    print(\"La evidencia sugiere que el número promedio de chispas de chocolate por paquete es significativamente menor que 40.\")\n",
    "else:\n",
    "    print(\"\\nConclusión: No podemos rechazar la Hipótesis Nula.\")\n",
    "    print(\"No hay evidencia estadística suficiente para afirmar que el promedio de chispas sea menor que 40.\")"
   ]
  }
 ],
 "metadata": {
  "kernelspec": {
   "display_name": "metodos_estadisticos",
   "language": "python",
   "name": "python3"
  },
  "language_info": {
   "codemirror_mode": {
    "name": "ipython",
    "version": 3
   },
   "file_extension": ".py",
   "mimetype": "text/x-python",
   "name": "python",
   "nbconvert_exporter": "python",
   "pygments_lexer": "ipython3",
   "version": "3.9.23"
  }
 },
 "nbformat": 4,
 "nbformat_minor": 5
}

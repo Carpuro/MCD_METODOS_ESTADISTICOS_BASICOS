{
 "cells": [
  {
   "cell_type": "markdown",
   "id": "421c13b9",
   "metadata": {},
   "source": [
    "Importar Librerias\n"
   ]
  },
  {
   "cell_type": "code",
   "execution_count": 10,
   "id": "8ce7aac6",
   "metadata": {},
   "outputs": [],
   "source": [
    "import os\n",
    "import kagglehub\n",
    "import zipfile\n",
    "import pandas as pd\n",
    "import numpy as np\n",
    "import matplotlib.pyplot as plt"
   ]
  },
  {
   "cell_type": "markdown",
   "id": "6003cce0",
   "metadata": {},
   "source": [
    "Importar el dataset de precios de inmuebles en CDMX"
   ]
  },
  {
   "cell_type": "code",
   "execution_count": 11,
   "id": "2d50ee32",
   "metadata": {},
   "outputs": [
    {
     "name": "stdout",
     "output_type": "stream",
     "text": [
      "Dataset downloaded to: C:\\Users\\carlo\\.cache\\kagglehub\\datasets\\renecardoso\\housing-prices-in-cdmx\\versions\\2\n",
      "\n",
      "Files in dataset folder: ['housing_data_CDMX.csv', 'housing_data_CDMX_v2.csv']\n"
     ]
    },
    {
     "ename": "FileNotFoundError",
     "evalue": "No se encontró ningún archivo ZIP en la carpeta descargada.",
     "output_type": "error",
     "traceback": [
      "\u001b[31m---------------------------------------------------------------------------\u001b[39m",
      "\u001b[31mFileNotFoundError\u001b[39m                         Traceback (most recent call last)",
      "\u001b[36mCell\u001b[39m\u001b[36m \u001b[39m\u001b[32mIn[11]\u001b[39m\u001b[32m, line 10\u001b[39m\n\u001b[32m      8\u001b[39m zip_files = [f \u001b[38;5;28;01mfor\u001b[39;00m f \u001b[38;5;129;01min\u001b[39;00m os.listdir(path) \u001b[38;5;28;01mif\u001b[39;00m f.endswith(\u001b[33m\"\u001b[39m\u001b[33m.zip\u001b[39m\u001b[33m\"\u001b[39m)]\n\u001b[32m      9\u001b[39m \u001b[38;5;28;01mif\u001b[39;00m \u001b[38;5;129;01mnot\u001b[39;00m zip_files:\n\u001b[32m---> \u001b[39m\u001b[32m10\u001b[39m     \u001b[38;5;28;01mraise\u001b[39;00m \u001b[38;5;167;01mFileNotFoundError\u001b[39;00m(\u001b[33m\"\u001b[39m\u001b[33mNo se encontró ningún archivo ZIP en la carpeta descargada.\u001b[39m\u001b[33m\"\u001b[39m)\n\u001b[32m     12\u001b[39m zip_path = os.path.join(path, zip_files[\u001b[32m0\u001b[39m])\n\u001b[32m     13\u001b[39m \u001b[38;5;28mprint\u001b[39m(\u001b[33m\"\u001b[39m\u001b[33mZIP file found:\u001b[39m\u001b[33m\"\u001b[39m, zip_path)\n",
      "\u001b[31mFileNotFoundError\u001b[39m: No se encontró ningún archivo ZIP en la carpeta descargada."
     ]
    }
   ],
   "source": [
    "# --- Descargar dataset ---\n",
    "path = kagglehub.dataset_download(\"renecardoso/housing-prices-in-cdmx\")\n",
    "\n",
    "print(\"Dataset downloaded to:\", path)\n",
    "print(\"\\nFiles in dataset folder:\", os.listdir(path))\n",
    "\n",
    "# --- Buscar archivo ZIP ---\n",
    "zip_files = [f for f in os.listdir(path) if f.endswith(\".zip\")]\n",
    "if not zip_files:\n",
    "    raise FileNotFoundError(\"No se encontró ningún archivo ZIP en la carpeta descargada.\")\n",
    "    \n",
    "zip_path = os.path.join(path, zip_files[0])\n",
    "print(\"ZIP file found:\", zip_path)\n",
    "\n",
    "# --- Extraer ZIP ---\n",
    "with zipfile.ZipFile(zip_path, 'r') as zip_ref:\n",
    "    zip_ref.extractall(path)  # extrae en la misma carpeta\n",
    "\n",
    "print(\"\\nFiles after extraction:\", os.listdir(path))\n",
    "\n",
    "# --- Buscar CSV ---\n",
    "csv_files = [f for f in os.listdir(path) if f.endswith(\".csv\")]\n",
    "if not csv_files:\n",
    "    raise FileNotFoundError(\"No se encontró ningún archivo CSV después de extraer el ZIP.\")\n",
    "\n",
    "csv_path = os.path.join(path, csv_files[0])\n",
    "print(\"CSV file found:\", csv_path)\n",
    "\n",
    "# --- Leer CSV ---\n",
    "df = pd.read_csv(csv_path)\n",
    "print(\"\\nFirst 5 records:\")\n",
    "print(df.head())\n"
   ]
  },
  {
   "cell_type": "code",
   "execution_count": null,
   "id": "ed3e4743",
   "metadata": {},
   "outputs": [],
   "source": []
  }
 ],
 "metadata": {
  "kernelspec": {
   "display_name": "Python 3",
   "language": "python",
   "name": "python3"
  },
  "language_info": {
   "codemirror_mode": {
    "name": "ipython",
    "version": 3
   },
   "file_extension": ".py",
   "mimetype": "text/x-python",
   "name": "python",
   "nbconvert_exporter": "python",
   "pygments_lexer": "ipython3",
   "version": "3.13.5"
  }
 },
 "nbformat": 4,
 "nbformat_minor": 5
}

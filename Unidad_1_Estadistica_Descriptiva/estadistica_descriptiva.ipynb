{
 "cells": [
  {
   "cell_type": "markdown",
   "id": "81da8107",
   "metadata": {},
   "source": [
    "# Import Libraries"
   ]
  },
  {
   "cell_type": "code",
   "execution_count": 7,
   "id": "ccdfb0ba",
   "metadata": {},
   "outputs": [],
   "source": [
    "import kagglehub\n",
    "import pandas as pd\n",
    "import numpy as np\n",
    "import os\n",
    "import zipfile\n",
    "import matplotlib.pyplot as plt\n",
    "from scipy import stats\n",
    "from kagglehub import KaggleDatasetAdapter\n"
   ]
  },
  {
   "cell_type": "markdown",
   "id": "41e650be",
   "metadata": {},
   "source": [
    "# Import the Dataset\n",
    "\n",
    "Dataset Info\n",
    "\n",
    "URL: https://www.kaggle.com/datasets/katerynameleshenko/ai-index/data\n",
    "\n",
    "Indicator Documentation: https://www.tortoisemedia.com/data/global-ai#rankings\n",
    "\n",
    "Tesis Title: Development of a Model to Estimate the Probability of AI Job Substitution in Zapopan"
   ]
  },
  {
   "cell_type": "code",
   "execution_count": 8,
   "id": "d8605526",
   "metadata": {},
   "outputs": [
    {
     "name": "stdout",
     "output_type": "stream",
     "text": [
      "Warning: Looks like you're using an outdated `kagglehub` version (installed: 0.3.12), please consider upgrading to the latest version (0.3.13).\n",
      "Downloading from https://www.kaggle.com/api/v1/datasets/download/katerynameleshenko/ai-index?dataset_version_number=1...\n"
     ]
    },
    {
     "name": "stderr",
     "output_type": "stream",
     "text": [
      "100%|██████████| 2.38k/2.38k [00:00<00:00, 1.45MB/s]"
     ]
    },
    {
     "name": "stdout",
     "output_type": "stream",
     "text": [
      "Extracting files...\n",
      "Dataset descargado en: C:\\Users\\carlo\\.cache\\kagglehub\\datasets\\katerynameleshenko\\ai-index\\versions\\1\n",
      "Archivos disponibles: ['AI_index_db.csv']\n",
      "Usando archivo: C:\\Users\\carlo\\.cache\\kagglehub\\datasets\\katerynameleshenko\\ai-index\\versions\\1\\AI_index_db.csv\n",
      "Primeros 5 registros:\n",
      "                    Country  Talent  Infrastructure  Operating Environment  \\\n",
      "0  United States of America  100.00           94.02                  64.56   \n",
      "1                     China   16.51          100.00                  91.57   \n",
      "2            United Kingdom   39.65           71.43                  74.65   \n",
      "3                    Canada   31.28           77.05                  93.94   \n",
      "4                    Israel   35.76           67.58                  82.44   \n",
      "\n",
      "   Research  Development  Government Strategy  Commercial  Total score  \\\n",
      "0    100.00       100.00                77.39      100.00       100.00   \n",
      "1     71.42        79.97                94.87       44.02        62.92   \n",
      "2     36.50        25.03                82.82       18.91        40.93   \n",
      "3     30.67        25.78               100.00       14.88        40.19   \n",
      "4     32.63        27.96                43.91       27.33        39.89   \n",
      "\n",
      "         Region                Cluster  Income group   Political regime  \n",
      "0      Americas          Power players          High  Liberal democracy  \n",
      "1  Asia-Pacific          Power players  Upper middle   Closed autocracy  \n",
      "2        Europe  Traditional champions          High  Liberal democracy  \n",
      "3      Americas  Traditional champions          High  Liberal democracy  \n",
      "4   Middle East           Rising stars          High  Liberal democracy  \n"
     ]
    },
    {
     "name": "stderr",
     "output_type": "stream",
     "text": [
      "\n"
     ]
    }
   ],
   "source": [
    "# --- Descargar dataset ---\n",
    "path = kagglehub.dataset_download(\"katerynameleshenko/ai-index\")\n",
    "print(\"Dataset descargado en:\", path)\n",
    "\n",
    "# --- Listar archivos dentro de la carpeta descargada ---\n",
    "print(\"Archivos disponibles:\", os.listdir(path))\n",
    "\n",
    "# --- Si viene en ZIP, lo descomprimimos ---\n",
    "zip_files = [f for f in os.listdir(path) if f.endswith(\".zip\")]\n",
    "if zip_files:\n",
    "    zip_path = os.path.join(path, zip_files[0])\n",
    "    with zipfile.ZipFile(zip_path, 'r') as zip_ref:\n",
    "        zip_ref.extractall(path)\n",
    "    print(\"Archivos después de extraer:\", os.listdir(path))\n",
    "\n",
    "# --- Buscar CSVs extraídos ---\n",
    "csv_files = [f for f in os.listdir(path) if f.endswith(\".csv\")]\n",
    "if not csv_files:\n",
    "    raise FileNotFoundError(\"No se encontró ningún archivo CSV en la carpeta del dataset.\")\n",
    "\n",
    "# --- Tomamos el primer CSV ---\n",
    "file_path = os.path.join(path, csv_files[0])\n",
    "print(\"Usando archivo:\", file_path)\n",
    "\n",
    "# --- Cargar con pandas ---\n",
    "df = pd.read_csv(file_path)\n",
    "\n",
    "# --- Mostrar primeras filas ---\n",
    "print(\"Primeros 5 registros:\")\n",
    "print(df.head())"
   ]
  }
 ],
 "metadata": {
  "kernelspec": {
   "display_name": "MCD",
   "language": "python",
   "name": "python3"
  },
  "language_info": {
   "codemirror_mode": {
    "name": "ipython",
    "version": 3
   },
   "file_extension": ".py",
   "mimetype": "text/x-python",
   "name": "python",
   "nbconvert_exporter": "python",
   "pygments_lexer": "ipython3",
   "version": "3.13.5"
  }
 },
 "nbformat": 4,
 "nbformat_minor": 5
}
